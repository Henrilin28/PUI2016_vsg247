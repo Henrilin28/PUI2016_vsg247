{
 "cells": [
  {
   "cell_type": "markdown",
   "metadata": {},
   "source": [
    "# Assignment 3"
   ]
  },
  {
   "cell_type": "code",
   "execution_count": 1,
   "metadata": {
    "collapsed": false
   },
   "outputs": [
    {
     "name": "stdout",
     "output_type": "stream",
     "text": [
      "Populating the interactive namespace from numpy and matplotlib\n"
     ]
    }
   ],
   "source": [
    "from __future__ import print_function\n",
    "import os\n",
    "import pandas as pd\n",
    "import numpy as np\n",
    "import matplotlib.pyplot as plt\n",
    "%pylab inline\n",
    "\n"
   ]
  },
  {
   "cell_type": "code",
   "execution_count": 2,
   "metadata": {
    "collapsed": false
   },
   "outputs": [
    {
     "name": "stdout",
     "output_type": "stream",
     "text": [
      "/gws/open/NYCOpenData/nycopendata/data\n"
     ]
    }
   ],
   "source": [
    "# 2) checking if the environmental variable exists\n",
    "DFdata = os.getenv(\"DFDATA\")\n",
    "print (DFdata)\n"
   ]
  },
  {
   "cell_type": "code",
   "execution_count": 3,
   "metadata": {
    "collapsed": false,
    "scrolled": true
   },
   "outputs": [
    {
     "data": {
      "text/html": [
       "<div>\n",
       "<table border=\"1\" class=\"dataframe\">\n",
       "  <thead>\n",
       "    <tr style=\"text-align: right;\">\n",
       "      <th></th>\n",
       "      <th>Borough, Block and Lot #</th>\n",
       "      <th>Facility Address</th>\n",
       "      <th>Natural Gas Utility (Con Edison or National Grid</th>\n",
       "      <th>Building Manager</th>\n",
       "      <th>Owner</th>\n",
       "      <th>Owner Address</th>\n",
       "      <th>DEP Boiler Application #</th>\n",
       "      <th>Deadline for phasing out #6 oil (i.e. data of next DEP permit renewal after July 1 2012)</th>\n",
       "      <th>Boiler Model</th>\n",
       "      <th>Number of identical boilers</th>\n",
       "      <th>...</th>\n",
       "      <th>Building Type</th>\n",
       "      <th>City Council District</th>\n",
       "      <th>Total area of buildings on lot</th>\n",
       "      <th>Number of buildings on property (tax lot)</th>\n",
       "      <th>Number of floors</th>\n",
       "      <th>Number of residential units</th>\n",
       "      <th>Number of total units</th>\n",
       "      <th>Year constructed</th>\n",
       "      <th>Condominium housing?</th>\n",
       "      <th>Cooperative housing?</th>\n",
       "    </tr>\n",
       "  </thead>\n",
       "  <tbody>\n",
       "    <tr>\n",
       "      <th>0</th>\n",
       "      <td>2.032590e+09</td>\n",
       "      <td>2840 BAILEY AVENUE\\nBronx, NY 10463\\n(40.87433...</td>\n",
       "      <td>Con Edison</td>\n",
       "      <td>BESNIK REALTY CORP.</td>\n",
       "      <td>BESNIK REALTY CORP</td>\n",
       "      <td>754 MACE AVENUE\\nBRONX, NY 10467\\n(40.86314421...</td>\n",
       "      <td>CA348086Y</td>\n",
       "      <td>7/6/05</td>\n",
       "      <td>ROCKMILLS MP 150</td>\n",
       "      <td>1.0</td>\n",
       "      <td>...</td>\n",
       "      <td>Elevator Apartments</td>\n",
       "      <td>14.0</td>\n",
       "      <td>86412.0</td>\n",
       "      <td>1.0</td>\n",
       "      <td>6.0</td>\n",
       "      <td>87.0</td>\n",
       "      <td>87.0</td>\n",
       "      <td>1926.0</td>\n",
       "      <td></td>\n",
       "      <td></td>\n",
       "    </tr>\n",
       "    <tr>\n",
       "      <th>1</th>\n",
       "      <td>2.057801e+09</td>\n",
       "      <td>3900 GREYSTONE AVENUE\\nBronx, NY 10463\\n(40.88...</td>\n",
       "      <td>Con Edison</td>\n",
       "      <td>TROY PITTS SPRINT</td>\n",
       "      <td>WIENER, EDITH</td>\n",
       "      <td>855 AVE\\nMANHATTAN, NY 10001\\n(40.750259021436...</td>\n",
       "      <td>CA014493L</td>\n",
       "      <td>7/6/05</td>\n",
       "      <td>FEDERAL FST-150</td>\n",
       "      <td>2.0</td>\n",
       "      <td>...</td>\n",
       "      <td>Elevator Apartments</td>\n",
       "      <td>11.0</td>\n",
       "      <td>134703.0</td>\n",
       "      <td>2.0</td>\n",
       "      <td>6.0</td>\n",
       "      <td>127.0</td>\n",
       "      <td>127.0</td>\n",
       "      <td>1928.0</td>\n",
       "      <td></td>\n",
       "      <td></td>\n",
       "    </tr>\n",
       "    <tr>\n",
       "      <th>2</th>\n",
       "      <td>2.028230e+09</td>\n",
       "      <td>1650 GRAND\\nBronx, NY 10457\\n(40.8457983712978...</td>\n",
       "      <td>Con Edison</td>\n",
       "      <td>BRONX LEBANON HOSPITAL</td>\n",
       "      <td>BRONX-LEBANON HOSPITA</td>\n",
       "      <td>1650 SELWYN AVE\\nBRONX, NY 10457\\n(40.84317219...</td>\n",
       "      <td>CA159489X</td>\n",
       "      <td>7/6/05</td>\n",
       "      <td>CLEAVER BROOKS CB-600-600</td>\n",
       "      <td>2.0</td>\n",
       "      <td>...</td>\n",
       "      <td>Elevator Apartments</td>\n",
       "      <td>14.0</td>\n",
       "      <td>480769.0</td>\n",
       "      <td>1.0</td>\n",
       "      <td>11.0</td>\n",
       "      <td>0.0</td>\n",
       "      <td>1.0</td>\n",
       "      <td>1941.0</td>\n",
       "      <td></td>\n",
       "      <td></td>\n",
       "    </tr>\n",
       "    <tr>\n",
       "      <th>3</th>\n",
       "      <td>2.030640e+09</td>\n",
       "      <td>4422 3 AVENUE\\nBronx, NY 10457\\n(40.8540683145...</td>\n",
       "      <td>Con Edison</td>\n",
       "      <td>ST BARNABAS HOSPITAL BOILER ROOM</td>\n",
       "      <td>ST BARNABAS NURSING H</td>\n",
       "      <td>4422 3 AVENUE\\nN Y 10457\\n(40.854068314549714,...</td>\n",
       "      <td>CB078401R</td>\n",
       "      <td>NaN</td>\n",
       "      <td>B &amp; W  FM  10-66</td>\n",
       "      <td>1.0</td>\n",
       "      <td>...</td>\n",
       "      <td>Loft Buildings</td>\n",
       "      <td>15.0</td>\n",
       "      <td>421234.0</td>\n",
       "      <td>4.0</td>\n",
       "      <td>8.0</td>\n",
       "      <td>0.0</td>\n",
       "      <td>1.0</td>\n",
       "      <td>1943.0</td>\n",
       "      <td></td>\n",
       "      <td></td>\n",
       "    </tr>\n",
       "    <tr>\n",
       "      <th>4</th>\n",
       "      <td>2.025060e+09</td>\n",
       "      <td>1204 SHAKESPEARE AVENUE\\nBronx, NY 10452\\n(40....</td>\n",
       "      <td>Con Edison</td>\n",
       "      <td>BRAGREIS REALTY CORP.</td>\n",
       "      <td>BRAGREIS REALTY CORP</td>\n",
       "      <td>191024 BROOKLYN\\nNY 11219\\n(40.63277295540763,...</td>\n",
       "      <td>CA352883Z</td>\n",
       "      <td>7/6/05</td>\n",
       "      <td>ROCKMILLS MP100</td>\n",
       "      <td>1.0</td>\n",
       "      <td>...</td>\n",
       "      <td>Walk-Up Apartments</td>\n",
       "      <td>16.0</td>\n",
       "      <td>53376.0</td>\n",
       "      <td>1.0</td>\n",
       "      <td>6.0</td>\n",
       "      <td>67.0</td>\n",
       "      <td>67.0</td>\n",
       "      <td>1926.0</td>\n",
       "      <td></td>\n",
       "      <td></td>\n",
       "    </tr>\n",
       "  </tbody>\n",
       "</table>\n",
       "<p>5 rows × 33 columns</p>\n",
       "</div>"
      ],
      "text/plain": [
       "   Borough, Block and Lot #  \\\n",
       "0              2.032590e+09   \n",
       "1              2.057801e+09   \n",
       "2              2.028230e+09   \n",
       "3              2.030640e+09   \n",
       "4              2.025060e+09   \n",
       "\n",
       "                                    Facility Address  \\\n",
       "0  2840 BAILEY AVENUE\\nBronx, NY 10463\\n(40.87433...   \n",
       "1  3900 GREYSTONE AVENUE\\nBronx, NY 10463\\n(40.88...   \n",
       "2  1650 GRAND\\nBronx, NY 10457\\n(40.8457983712978...   \n",
       "3  4422 3 AVENUE\\nBronx, NY 10457\\n(40.8540683145...   \n",
       "4  1204 SHAKESPEARE AVENUE\\nBronx, NY 10452\\n(40....   \n",
       "\n",
       "  Natural Gas Utility (Con Edison or National Grid  \\\n",
       "0                                       Con Edison   \n",
       "1                                       Con Edison   \n",
       "2                                       Con Edison   \n",
       "3                                       Con Edison   \n",
       "4                                       Con Edison   \n",
       "\n",
       "                   Building Manager                  Owner  \\\n",
       "0               BESNIK REALTY CORP.     BESNIK REALTY CORP   \n",
       "1                 TROY PITTS SPRINT          WIENER, EDITH   \n",
       "2            BRONX LEBANON HOSPITAL  BRONX-LEBANON HOSPITA   \n",
       "3  ST BARNABAS HOSPITAL BOILER ROOM  ST BARNABAS NURSING H   \n",
       "4             BRAGREIS REALTY CORP.   BRAGREIS REALTY CORP   \n",
       "\n",
       "                                       Owner Address DEP Boiler Application #  \\\n",
       "0  754 MACE AVENUE\\nBRONX, NY 10467\\n(40.86314421...                CA348086Y   \n",
       "1  855 AVE\\nMANHATTAN, NY 10001\\n(40.750259021436...                CA014493L   \n",
       "2  1650 SELWYN AVE\\nBRONX, NY 10457\\n(40.84317219...                CA159489X   \n",
       "3  4422 3 AVENUE\\nN Y 10457\\n(40.854068314549714,...                CB078401R   \n",
       "4  191024 BROOKLYN\\nNY 11219\\n(40.63277295540763,...                CA352883Z   \n",
       "\n",
       "  Deadline for phasing out #6 oil (i.e. data of next DEP permit renewal after July 1 2012)  \\\n",
       "0                                             7/6/05                                         \n",
       "1                                             7/6/05                                         \n",
       "2                                             7/6/05                                         \n",
       "3                                                NaN                                         \n",
       "4                                             7/6/05                                         \n",
       "\n",
       "                Boiler Model  Number of identical boilers  \\\n",
       "0           ROCKMILLS MP 150                          1.0   \n",
       "1            FEDERAL FST-150                          2.0   \n",
       "2  CLEAVER BROOKS CB-600-600                          2.0   \n",
       "3           B & W  FM  10-66                          1.0   \n",
       "4            ROCKMILLS MP100                          1.0   \n",
       "\n",
       "           ...                 Building Type  City Council District  \\\n",
       "0          ...           Elevator Apartments                   14.0   \n",
       "1          ...           Elevator Apartments                   11.0   \n",
       "2          ...           Elevator Apartments                   14.0   \n",
       "3          ...                Loft Buildings                   15.0   \n",
       "4          ...            Walk-Up Apartments                   16.0   \n",
       "\n",
       "   Total area of buildings on lot Number of buildings on property (tax lot)  \\\n",
       "0                         86412.0                                       1.0   \n",
       "1                        134703.0                                       2.0   \n",
       "2                        480769.0                                       1.0   \n",
       "3                        421234.0                                       4.0   \n",
       "4                         53376.0                                       1.0   \n",
       "\n",
       "  Number of floors Number of residential units Number of total units  \\\n",
       "0              6.0                        87.0                  87.0   \n",
       "1              6.0                       127.0                 127.0   \n",
       "2             11.0                         0.0                   1.0   \n",
       "3              8.0                         0.0                   1.0   \n",
       "4              6.0                        67.0                  67.0   \n",
       "\n",
       "   Year constructed  Condominium housing?  Cooperative housing?  \n",
       "0            1926.0                                              \n",
       "1            1928.0                                              \n",
       "2            1941.0                                              \n",
       "3            1943.0                                              \n",
       "4            1926.0                                              \n",
       "\n",
       "[5 rows x 33 columns]"
      ]
     },
     "execution_count": 3,
     "metadata": {},
     "output_type": "execute_result"
    }
   ],
   "source": [
    "# getting the dataset from the data facility\n",
    "df_oil_boilers = pd.read_csv(DFdata + \"/jfzu-yy6n/1414245777/jfzu-yy6n\")\n",
    "\n",
    "# displaying the head of the table\n",
    "df_oil_boilers.head(5)"
   ]
  },
  {
   "cell_type": "code",
   "execution_count": 4,
   "metadata": {
    "collapsed": false
   },
   "outputs": [
    {
     "data": {
      "text/plain": [
       "['Borough, Block and Lot #',\n",
       " 'Facility Address',\n",
       " 'Natural Gas Utility (Con Edison or National Grid',\n",
       " 'Building Manager',\n",
       " 'Owner',\n",
       " 'Owner Address',\n",
       " 'DEP Boiler Application #',\n",
       " 'Deadline for phasing out #6 oil (i.e. data of next DEP permit renewal after July 1 2012)',\n",
       " 'Boiler Model',\n",
       " 'Number of identical boilers',\n",
       " 'Boiler capacity (Gross BTU)',\n",
       " 'Boiler Installation Date',\n",
       " 'Estimated retirement date of boiler (assuming 35 year average useful life)',\n",
       " 'Is boiler dual fuel capable?',\n",
       " 'Age range of boiler',\n",
       " 'Burner Model',\n",
       " 'Primary Fuel',\n",
       " 'Total Estimated Cosumption - High Estimate (Gallons) ',\n",
       " 'Total Estimated Cosumption - Low Estimate (Gallons) ',\n",
       " 'Total Estimated Cosumption - High Estimate (MMBTUs) ',\n",
       " 'Total Estimated Cosumption - Low Estimate  (MMBTUs) ',\n",
       " 'Needs to comply with Greener Greater Buildings Laws?',\n",
       " 'Deadline for complying with Audit and Retrocommissioning Law',\n",
       " 'Building Type',\n",
       " 'City Council District',\n",
       " 'Total area of buildings on lot',\n",
       " 'Number of buildings on property (tax lot)',\n",
       " 'Number of floors',\n",
       " 'Number of residential units',\n",
       " 'Number of total units',\n",
       " 'Year constructed',\n",
       " 'Condominium housing?',\n",
       " 'Cooperative housing?']"
      ]
     },
     "execution_count": 4,
     "metadata": {},
     "output_type": "execute_result"
    }
   ],
   "source": [
    "# Since the table has 33 columns, and the head method didn't displaying all of them \n",
    "# Used .columns to display all the column names\n",
    "columns = list(df_oil_boilers.columns)\n",
    "columns"
   ]
  },
  {
   "cell_type": "code",
   "execution_count": 5,
   "metadata": {
    "collapsed": false
   },
   "outputs": [
    {
     "data": {
      "text/html": [
       "<div>\n",
       "<table border=\"1\" class=\"dataframe\">\n",
       "  <thead>\n",
       "    <tr style=\"text-align: right;\">\n",
       "      <th></th>\n",
       "      <th>Total Estimated Cosumption - High Estimate (Gallons)</th>\n",
       "      <th>Total area of buildings on lot</th>\n",
       "    </tr>\n",
       "  </thead>\n",
       "  <tbody>\n",
       "    <tr>\n",
       "      <th>0</th>\n",
       "      <td>716160.0</td>\n",
       "      <td>86412.0</td>\n",
       "    </tr>\n",
       "    <tr>\n",
       "      <th>1</th>\n",
       "      <td>550000.0</td>\n",
       "      <td>134703.0</td>\n",
       "    </tr>\n",
       "    <tr>\n",
       "      <th>2</th>\n",
       "      <td>492750.0</td>\n",
       "      <td>480769.0</td>\n",
       "    </tr>\n",
       "    <tr>\n",
       "      <th>3</th>\n",
       "      <td>482040.0</td>\n",
       "      <td>421234.0</td>\n",
       "    </tr>\n",
       "    <tr>\n",
       "      <th>4</th>\n",
       "      <td>480000.0</td>\n",
       "      <td>53376.0</td>\n",
       "    </tr>\n",
       "  </tbody>\n",
       "</table>\n",
       "</div>"
      ],
      "text/plain": [
       "   Total Estimated Cosumption - High Estimate (Gallons)   \\\n",
       "0                                           716160.0       \n",
       "1                                           550000.0       \n",
       "2                                           492750.0       \n",
       "3                                           482040.0       \n",
       "4                                           480000.0       \n",
       "\n",
       "   Total area of buildings on lot  \n",
       "0                         86412.0  \n",
       "1                        134703.0  \n",
       "2                        480769.0  \n",
       "3                        421234.0  \n",
       "4                         53376.0  "
      ]
     },
     "execution_count": 5,
     "metadata": {},
     "output_type": "execute_result"
    }
   ],
   "source": [
    "# Dropping all the values except \"Total area of buildings on lot\" and \n",
    "# \"Total Estimated Cosumption - High Estimate (Gallons)\"\n",
    "\n",
    "for i in range(len(columns)):\n",
    "    if columns[i] == 'Total Estimated Cosumption - High Estimate (Gallons) ':\n",
    "        pass\n",
    "    elif columns[i] == 'Total area of buildings on lot':\n",
    "        pass\n",
    "    else: \n",
    "        df_oil_boilers.drop([columns[i]], axis=1, inplace=True)\n",
    "\n",
    "# displaying the reducted dataframe        \n",
    "df_oil_boilers.head(5)"
   ]
  },
  {
   "cell_type": "code",
   "execution_count": 6,
   "metadata": {
    "collapsed": false
   },
   "outputs": [
    {
     "data": {
      "text/plain": [
       "<matplotlib.text.Text at 0x7fc48a4b5cd0>"
      ]
     },
     "execution_count": 6,
     "metadata": {},
     "output_type": "execute_result"
    },
    {
     "data": {
      "text/plain": [
       "<matplotlib.figure.Figure at 0x7fc48a49eed0>"
      ]
     },
     "metadata": {},
     "output_type": "display_data"
    },
    {
     "data": {
      "image/png": "[encoded data removed]",
      "text/plain": [
       "<matplotlib.figure.Figure at 0x7fc48a58f950>"
      ]
     },
     "metadata": {},
     "output_type": "display_data"
    }
   ],
   "source": [
    "fig = plt.figure()\n",
    "df_oil_boilers.plot.scatter(\"Total area of buildings on lot\", \"Total Estimated Cosumption - High Estimate (Gallons) \")\n",
    "gca().set_position((.1, .3, .8, .6))\n",
    "plt.title(\"Oil consumption in relation to total area of buildings in lot\")\n",
    "plt.figtext(0.16, 0.02, \"Figure 01: Oil consumption in relation to area of buildings.\")\n"
   ]
  }
 ],
 "metadata": {
  "kernelspec": {
   "display_name": "PUI2016_Python2",
   "language": "python",
   "name": "pui2016_python2"
  },
  "language_info": {
   "codemirror_mode": {
    "name": "ipython",
    "version": 2
   },
   "file_extension": ".py",
   "mimetype": "text/x-python",
   "name": "python",
   "nbconvert_exporter": "python",
   "pygments_lexer": "ipython2",
   "version": "2.7.12"
  }
 },
 "nbformat": 4,
 "nbformat_minor": 0
}
